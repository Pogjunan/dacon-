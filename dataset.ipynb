{
 "cells": [
  {
   "cell_type": "markdown",
   "id": "1030a2ac-fc5b-462a-8638-8efda2da9a05",
   "metadata": {},
   "source": [
    "# `Dataset Info.`\n",
    "----\n",
    "\n",
    "## 1. train.csv\n",
    "\n",
    "3498개 화합물 정보 <br>\n",
    "id: 샘플 고유 id <br>\n",
    "SMILES: 화합물의 분자 구조 <br>\n",
    "화합물의 물성 관련 정보 (LogD의 경우 pH값 7.4에서 계산) <br>\n",
    "MLM(Mouse Liver Microsome) 포함 #이거예측인가? <br> \n",
    "HLM(Human Liver Microsome) 포함 #이거예측인가?  <br>\n",
    "HLM 및 MLM은 간 및 마우스의 간 대사효소와 화합물을 30분 동안 반응시킨 후,  <br> \n",
    "대사되지 않고 남아있는 화합물의 양을(%) LC-MS/MS로 측정함으로써 화합물의 간 대사효소에 대한 안정성을 평가한 데이터 <br>\n",
    "\n",
    "\n",
    "## 2. test.csv\n",
    "\n",
    "483개 화합물 정보 <br>\n",
    "id: 샘플 고유 id <br>\n",
    "SMILES: 화합물의 분자 구조 <br>\n",
    "화합물의 물성 관련 정보 (LogD의 경우 pH값 7.4에서 계산) <br>\n",
    "\n",
    "\n",
    "## 3. sample_submission.csv\n",
    "\n",
    "id: 샘플 고유 id <br>\n",
    "MLM: test 데이터에 대해서 MLM을 예측한 값 <br>\n",
    "HLM: test 데이터에 대해서 HLM을 예측한 값 <br>"
   ]
  },
  {
   "cell_type": "code",
   "execution_count": null,
   "id": "1e42aba7-9f71-41da-8ca4-3a41752b9a2c",
   "metadata": {},
   "outputs": [],
   "source": []
  }
 ],
 "metadata": {
  "kernelspec": {
   "display_name": "deep",
   "language": "python",
   "name": "deep"
  },
  "language_info": {
   "codemirror_mode": {
    "name": "ipython",
    "version": 3
   },
   "file_extension": ".py",
   "mimetype": "text/x-python",
   "name": "python",
   "nbconvert_exporter": "python",
   "pygments_lexer": "ipython3",
   "version": "3.10.13"
  }
 },
 "nbformat": 4,
 "nbformat_minor": 5
}
